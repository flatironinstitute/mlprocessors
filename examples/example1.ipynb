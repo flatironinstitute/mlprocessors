{
 "cells": [
  {
   "cell_type": "code",
   "execution_count": null,
   "metadata": {},
   "outputs": [],
   "source": [
    "%load_ext autoreload\n",
    "%autoreload 2\n",
    "\n",
    "import mlprocessors as mlpr\n",
    "from pairio import client as pairio\n",
    "from kbucket import client as kbucket\n",
    "import os"
   ]
  },
  {
   "cell_type": "code",
   "execution_count": null,
   "metadata": {},
   "outputs": [],
   "source": [
    "#pairio.setConfig(local=True,collections=['magland','morley'])\n",
    "#kbucket.setConfig(local=True,remote=False,share_ids=['magland.kbshare1','magland.eh1'])"
   ]
  },
  {
   "cell_type": "code",
   "execution_count": null,
   "metadata": {},
   "outputs": [],
   "source": [
    "#pairio.setConfig(user='magland',token='7563f4e94ac4')\n",
    "#kbucket.setConfig(upload_share_id='magland.eh1',upload_token=pairio.getLocal('eh1-upload-token'))"
   ]
  },
  {
   "cell_type": "code",
   "execution_count": null,
   "metadata": {},
   "outputs": [],
   "source": [
    "kbucket.saveObject(object={'test':'abcdefgijklmn'},key='testobj2')"
   ]
  },
  {
   "cell_type": "code",
   "execution_count": null,
   "metadata": {},
   "outputs": [],
   "source": [
    "kbucket.loadObject(key='testobj2')"
   ]
  },
  {
   "cell_type": "code",
   "execution_count": null,
   "metadata": {},
   "outputs": [],
   "source": [
    "pairio.setConfig(local=False,user=pairio.getLocal('pairio-user'),token=pairio.getLocal('pairio-token'),collections=[pairio.getLocal('pairio-user')])"
   ]
  },
  {
   "cell_type": "code",
   "execution_count": null,
   "metadata": {},
   "outputs": [],
   "source": [
    "pairio.set('testkey101','testval101')"
   ]
  },
  {
   "cell_type": "code",
   "execution_count": null,
   "metadata": {},
   "outputs": [],
   "source": [
    "pairio.get('testkey101')"
   ]
  },
  {
   "cell_type": "code",
   "execution_count": null,
   "metadata": {},
   "outputs": [],
   "source": [
    "pairio.setLocal('eh1-token','HR9hUOICzmNR')"
   ]
  },
  {
   "cell_type": "code",
   "execution_count": null,
   "metadata": {},
   "outputs": [],
   "source": [
    "kbucket.setConfig(share_ids=['magland.eh1'])"
   ]
  },
  {
   "cell_type": "code",
   "execution_count": null,
   "metadata": {},
   "outputs": [],
   "source": [
    "kbucket.saveObject({'test':'object'},key='obj1',share_id='magland.eh1',upload_token=pairio.getLocal('eh1-token'))"
   ]
  },
  {
   "cell_type": "code",
   "execution_count": null,
   "metadata": {},
   "outputs": [],
   "source": [
    "kbucket.loadObject(key='obj1')"
   ]
  },
  {
   "cell_type": "code",
   "execution_count": null,
   "metadata": {},
   "outputs": [],
   "source": [
    "class test_processor(mlpr.Processor):\n",
    "    \"\"\"\n",
    "        A test processor\n",
    "    \"\"\"\n",
    "    NAME='test.test_processor'\n",
    "    VERSION=0.1\n",
    "\n",
    "    input_file = mlpr.Input('Path of test input file')\n",
    "    output_file = mlpr.Output('Test output file')\n",
    "    param1 = mlpr.IntegerParameter('Test integer parameter')\n",
    "\n",
    "    def run(self):\n",
    "        with open(self.input_file,'r') as f:\n",
    "            str=f.read()\n",
    "        str=\"param1={}\\n{}\".format(self.param1,str)\n",
    "        print(str)\n",
    "        with open(self.output_file,'w') as f:\n",
    "            f.write(str)\n",
    "        return True"
   ]
  },
  {
   "cell_type": "code",
   "execution_count": null,
   "metadata": {},
   "outputs": [],
   "source": [
    "#test_processor.invoke(args=['--input','setup.py','--output','testing.setup.py','--param1','13'])\n",
    "ret=test_processor.execute(input_file='test.txt',output_file='testing.test.txt',param1=143,_cache=True)\n",
    "display(ret.outputs)"
   ]
  },
  {
   "cell_type": "code",
   "execution_count": null,
   "metadata": {},
   "outputs": [],
   "source": [
    "kbucket.uploadFile('testing.test.txt',share_id='magland.eh1',upload_token=pairio.getLocal('eh1-token'))"
   ]
  },
  {
   "cell_type": "code",
   "execution_count": null,
   "metadata": {},
   "outputs": [],
   "source": [
    "ret=test_processor.execute(input_file='test.txt',output_file={'ext':'.txt'},param1=145)\n",
    "display(ret.outputs)"
   ]
  },
  {
   "cell_type": "code",
   "execution_count": null,
   "metadata": {},
   "outputs": [],
   "source": [
    "kbucket.readDir('.').toDict()"
   ]
  },
  {
   "cell_type": "code",
   "execution_count": null,
   "metadata": {},
   "outputs": [],
   "source": [
    "kbucket.readDir('kbucket://magland.kbshare1/datasets/neuron_paper/synth_K15').toDict()"
   ]
  },
  {
   "cell_type": "code",
   "execution_count": null,
   "metadata": {},
   "outputs": [],
   "source": [
    "kbucket.findFile('kbucket://magland.kbshare1/datasets/neuron_paper/synth_K15/geom.csv')"
   ]
  },
  {
   "cell_type": "code",
   "execution_count": null,
   "metadata": {},
   "outputs": [],
   "source": [
    "kbucket.realizeFile('kbucket://magland.kbshare1/datasets/neuron_paper/synth_K15/geom.csv')"
   ]
  },
  {
   "cell_type": "code",
   "execution_count": null,
   "metadata": {},
   "outputs": [],
   "source": [
    "kbucket.findFile(sha1='56e7579ffba66dd8baecfd77d2f13e48943c4b0f')"
   ]
  },
  {
   "cell_type": "code",
   "execution_count": null,
   "metadata": {},
   "outputs": [],
   "source": []
  }
 ],
 "metadata": {
  "kernelspec": {
   "display_name": "Python 3",
   "language": "python",
   "name": "python3"
  },
  "language_info": {
   "codemirror_mode": {
    "name": "ipython",
    "version": 3
   },
   "file_extension": ".py",
   "mimetype": "text/x-python",
   "name": "python",
   "nbconvert_exporter": "python",
   "pygments_lexer": "ipython3",
   "version": "3.6.6"
  }
 },
 "nbformat": 4,
 "nbformat_minor": 2
}
