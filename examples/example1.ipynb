{
 "cells": [
  {
   "cell_type": "code",
   "execution_count": null,
   "metadata": {},
   "outputs": [],
   "source": [
    "%load_ext autoreload\n",
    "%autoreload 2\n",
    "\n",
    "import mlprocessors as mlpr\n",
    "from pairio import client as pairio\n",
    "from kbucket import client as kbucket"
   ]
  },
  {
   "cell_type": "code",
   "execution_count": null,
   "metadata": {},
   "outputs": [],
   "source": [
    "pairio.setConfig(local=True,remote=True,collections=['magland','morley'])\n",
    "kbucket.setConfig(local=True,remote=True,share_ids=['magland.kbshare1'])"
   ]
  },
  {
   "cell_type": "code",
   "execution_count": null,
   "metadata": {},
   "outputs": [],
   "source": [
    "class test_processor(mlpr.Processor):\n",
    "    \"\"\"\n",
    "        A test processor\n",
    "    \"\"\"\n",
    "    VERSION=0.1\n",
    "\n",
    "    input = mlpr.Input('Path of test input file')\n",
    "    output = mlpr.Output('Test output file')\n",
    "    param1 = mlpr.IntegerParameter('Test integer parameter')\n",
    "\n",
    "    def run(self):\n",
    "        with open(self.input,'r') as f:\n",
    "            str=f.read()\n",
    "        str=\"param1={}\\n{}\".format(self.param1,str)\n",
    "        print(str)\n",
    "        with open(self.output,'w') as f:\n",
    "            f.write(str)\n",
    "        return True"
   ]
  },
  {
   "cell_type": "code",
   "execution_count": null,
   "metadata": {},
   "outputs": [],
   "source": [
    "#test_processor.invoke(args=['--input','setup.py','--output','testing.setup.py','--param1','13'])\n",
    "test_processor.execute(input='test.txt',output='testing.test.txt',param1=30,_cache=True)"
   ]
  },
  {
   "cell_type": "code",
   "execution_count": null,
   "metadata": {},
   "outputs": [],
   "source": [
    "ret=test_processor.execute(input='test.txt',output={'ext':'.txt'},param1=0)\n",
    "display(ret.outputs)"
   ]
  },
  {
   "cell_type": "code",
   "execution_count": null,
   "metadata": {},
   "outputs": [],
   "source": [
    "kbucket.readDir('kbucket://magland.kbshare1/datasets/neuron_paper/synth_K15').toDict()"
   ]
  },
  {
   "cell_type": "code",
   "execution_count": null,
   "metadata": {},
   "outputs": [],
   "source": [
    "kbucket.findFile('kbucket://magland.kbshare1/datasets/neuron_paper/synth_K15/geom.csv')"
   ]
  },
  {
   "cell_type": "code",
   "execution_count": null,
   "metadata": {},
   "outputs": [],
   "source": [
    "kbucket.findFile(sha1='28f70121ccd04ac774f7a11dfab4ccce4bc8e0ea')"
   ]
  }
 ],
 "metadata": {
  "kernelspec": {
   "display_name": "Python 3",
   "language": "python",
   "name": "python3"
  },
  "language_info": {
   "codemirror_mode": {
    "name": "ipython",
    "version": 3
   },
   "file_extension": ".py",
   "mimetype": "text/x-python",
   "name": "python",
   "nbconvert_exporter": "python",
   "pygments_lexer": "ipython3",
   "version": "3.6.6"
  }
 },
 "nbformat": 4,
 "nbformat_minor": 2
}
