{
 "cells": [
  {
   "cell_type": "code",
   "execution_count": 1,
   "metadata": {},
   "outputs": [],
   "source": [
    "%load_ext autoreload\n",
    "%autoreload 2\n",
    "\n",
    "import mlprocessors as mlpr\n",
    "from pairio import client as pairio\n",
    "from kbucket import client as kbucket"
   ]
  },
  {
   "cell_type": "code",
   "execution_count": 2,
   "metadata": {},
   "outputs": [],
   "source": [
    "pairio.setConfig(local=True,remote=True,collections=['magland','morley'])\n",
    "kbucket.setConfig(local=True,remote=True,share_ids=['magland.kbshare1'])"
   ]
  },
  {
   "cell_type": "code",
   "execution_count": 3,
   "metadata": {},
   "outputs": [],
   "source": [
    "class test_processor(mlpr.Processor):\n",
    "    \"\"\"\n",
    "        A test processor\n",
    "    \"\"\"\n",
    "    VERSION=0.1\n",
    "\n",
    "    input = mlpr.Input('Path of test input file')\n",
    "    output = mlpr.Output('Test output file')\n",
    "    param1 = mlpr.IntegerParameter('Test integer parameter')\n",
    "\n",
    "    def run(self):\n",
    "        with open(self.input,'r') as f:\n",
    "            str=f.read()\n",
    "        str=\"param1={}\\n{}\".format(self.param1,str)\n",
    "        print(str)\n",
    "        with open(self.output,'w') as f:\n",
    "            f.write(str)\n",
    "        return True"
   ]
  },
  {
   "cell_type": "code",
   "execution_count": 4,
   "metadata": {},
   "outputs": [
    {
     "name": "stdout",
     "output_type": "stream",
     "text": [
      "param1=30\n",
      "===================\n",
      "This is the content\n",
      "of test.txt\n",
      "===================\n",
      "setting: 8754955f106fb392105810c51ce28d3ea932b021:54b8601542d43df0cb4e66581f3cf4435ddd78f8\n"
     ]
    },
    {
     "data": {
      "text/plain": [
       "<mlprocessors.execute.ProcessorExecuteOutput at 0x7f6d183ba630>"
      ]
     },
     "execution_count": 4,
     "metadata": {},
     "output_type": "execute_result"
    }
   ],
   "source": [
    "#test_processor.invoke(args=['--input','setup.py','--output','testing.setup.py','--param1','13'])\n",
    "test_processor.execute(input='test.txt',output='testing.test.txt',param1=30,_cache=True)"
   ]
  },
  {
   "cell_type": "code",
   "execution_count": 6,
   "metadata": {},
   "outputs": [
    {
     "name": "stdout",
     "output_type": "stream",
     "text": [
      "param1=0\n",
      "===================\n",
      "This is the content\n",
      "of test.txt\n",
      "===================\n",
      "setting: a9848cb771fd84b1c26a39aa6bc4609e4be9ef6a:6bd1cb64165b053b4b54c7ced9bb71dc67fa6f5c\n"
     ]
    },
    {
     "data": {
      "text/plain": [
       "{'output': '/tmp/sha1-cache/6/bd/6bd1cb64165b053b4b54c7ced9bb71dc67fa6f5c'}"
      ]
     },
     "metadata": {},
     "output_type": "display_data"
    }
   ],
   "source": [
    "ret=test_processor.execute(input='test.txt',output={'ext':'.txt'},param1=0)\n",
    "display(ret.outputs)"
   ]
  },
  {
   "cell_type": "code",
   "execution_count": 7,
   "metadata": {},
   "outputs": [
    {
     "data": {
      "text/plain": [
       "{'files': [{'name': 'firings_true.mda',\n",
       "   'size': 265040,\n",
       "   'sha1': '5fb95bede27a48e679cef376e504e7125f60bd83'},\n",
       "  {'name': 'geom.csv',\n",
       "   'size': 16,\n",
       "   'sha1': '56e7579ffba66dd8baecfd77d2f13e48943c4b0f'},\n",
       "  {'name': 'params.json',\n",
       "   'size': 43,\n",
       "   'sha1': '202e12d13f832d97d69ffefc2a7a3e42264b690b'},\n",
       "  {'name': 'raw.mda',\n",
       "   'size': 257589652,\n",
       "   'sha1': '28f70121ccd04ac774f7a11dfab4ccce4bc8e0ea'}],\n",
       " 'dirs': []}"
      ]
     },
     "execution_count": 7,
     "metadata": {},
     "output_type": "execute_result"
    }
   ],
   "source": [
    "kbucket.readDir('kbucket://magland.kbshare1/datasets/neuron_paper/synth_K15').toDict()"
   ]
  },
  {
   "cell_type": "code",
   "execution_count": 8,
   "metadata": {},
   "outputs": [
    {
     "data": {
      "text/plain": [
       "'https://kbucket.flatironinstitute.org/b5ecdf1474c5/download/old_raw/56e7579ffba66dd8baecfd77d2f13e48943c4b0f'"
      ]
     },
     "execution_count": 8,
     "metadata": {},
     "output_type": "execute_result"
    }
   ],
   "source": [
    "kbucket.findFile('kbucket://magland.kbshare1/datasets/neuron_paper/synth_K15/geom.csv')"
   ]
  },
  {
   "cell_type": "code",
   "execution_count": 9,
   "metadata": {},
   "outputs": [
    {
     "data": {
      "text/plain": [
       "'https://kbucket.flatironinstitute.org/b5ecdf1474c5/download/old_raw/28f70121ccd04ac774f7a11dfab4ccce4bc8e0ea'"
      ]
     },
     "execution_count": 9,
     "metadata": {},
     "output_type": "execute_result"
    }
   ],
   "source": [
    "kbucket.findFile(sha1='28f70121ccd04ac774f7a11dfab4ccce4bc8e0ea')"
   ]
  }
 ],
 "metadata": {
  "kernelspec": {
   "display_name": "Python 3",
   "language": "python",
   "name": "python3"
  },
  "language_info": {
   "codemirror_mode": {
    "name": "ipython",
    "version": 3
   },
   "file_extension": ".py",
   "mimetype": "text/x-python",
   "name": "python",
   "nbconvert_exporter": "python",
   "pygments_lexer": "ipython3",
   "version": "3.6.6"
  }
 },
 "nbformat": 4,
 "nbformat_minor": 2
}
